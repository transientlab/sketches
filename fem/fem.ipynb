{
 "cells": [
  {
   "cell_type": "code",
   "execution_count": null,
   "id": "e335ec51",
   "metadata": {},
   "outputs": [],
   "source": [
    "import math\n",
    "from sage import var, plot3d, show"
   ]
  },
  {
   "cell_type": "code",
   "execution_count": null,
   "id": "eaaf8686",
   "metadata": {},
   "outputs": [],
   "source": [
    "x, y = var('x y')\n",
    "W = plot3d(1 + x^2 + 2*y^2, (x, 0, 2), (y, 0, 1), frame=True, color='purple', opacity=0.8)\n",
    "show(W, figsize=8)"
   ]
  }
 ],
 "metadata": {
  "kernelspec": {
   "display_name": "Julia 1.9.1",
   "language": "julia",
   "name": "julia-1.9"
  },
  "language_info": {
   "file_extension": ".jl",
   "mimetype": "application/julia",
   "name": "julia",
   "version": "1.9.1"
  }
 },
 "nbformat": 4,
 "nbformat_minor": 5
}
